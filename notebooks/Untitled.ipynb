{
 "cells": [
  {
   "cell_type": "code",
   "execution_count": 1,
   "id": "4ef872b4-4122-4af9-9c88-a03818d23605",
   "metadata": {},
   "outputs": [],
   "source": [
    "import PyPDF2\n",
    "import pandas"
   ]
  },
  {
   "cell_type": "markdown",
   "id": "0791bf8f-54a7-48ab-bad7-3b7c873d216e",
   "metadata": {},
   "source": [
    "First have to make the object"
   ]
  },
  {
   "cell_type": "code",
   "execution_count": 2,
   "id": "11f12892-1631-4bcc-a4a6-41bd146aabf5",
   "metadata": {},
   "outputs": [],
   "source": [
    "pdfFileObj = open('../cooling_centers.pdf', 'rb')"
   ]
  },
  {
   "cell_type": "markdown",
   "id": "3d7141cd-70eb-444a-b4ef-81103bc4022f",
   "metadata": {},
   "source": [
    "Then open the object"
   ]
  },
  {
   "cell_type": "code",
   "execution_count": 3,
   "id": "3dec9415-5a56-4ae0-9608-3f01101fd168",
   "metadata": {},
   "outputs": [],
   "source": [
    "pdfReader = PyPDF2.PdfFileReader(pdfFileObj) "
   ]
  },
  {
   "cell_type": "markdown",
   "id": "571a6f81-a9cd-4700-86e5-56e5ed3bb7f3",
   "metadata": {},
   "source": [
    "need to select the specific page (there are 8)"
   ]
  },
  {
   "cell_type": "code",
   "execution_count": 4,
   "id": "cb2828c9-dd1a-44e2-ba2e-905843fff4de",
   "metadata": {},
   "outputs": [],
   "source": [
    "pageObj = pdfReader.getPage(0) "
   ]
  },
  {
   "cell_type": "markdown",
   "id": "c813f41e-99bb-45af-b129-793ee4368505",
   "metadata": {},
   "source": [
    "Print results (need to itemize columns)"
   ]
  },
  {
   "cell_type": "code",
   "execution_count": 7,
   "id": "05994be5-4ea2-4c36-8336-b3b9c034f8e4",
   "metadata": {},
   "outputs": [
    {
     "name": "stdout",
     "output_type": "stream",
     "text": [
      "COOL ZONES SITES 2022\n",
      "(As of September 29, 2022)\n",
      "ORGANIZATIONSTREETCITYZIP CODEPUBLIC PHONEMONTUESWEDTHURSFRISATSUNHOLIDAYSPET POLICY\n",
      "4S Ranch Branch10433 Reserve Dr.San Diego92127(858) 673-469810:00 am - 6:00 pm12:00 pm - 7:00 pm10:00 am - 6:00 pm10:00 am - 6:00 pm10:00 am - 5:00 pm10:00 am - 5:00 pmClosedClosedService \n",
      "Animals \n",
      "Only\n",
      "Allied Gardens/Benjamin Library5188 Zion Ave.San Diego92120(619) 533-397011:30 am - 8:00 pm11:30 am - 8:00 pm9:30 am - 6:00 pm9:30 am - 6:00 pm9:30 am - 6:00 pm9:30 am - 6:00 pmClosedClosedService \n",
      "Animals \n",
      "Only\n",
      "Alpine Branch1752 Alpine Blvd.Alpine91901(619) 445-4221Closed12:00 pm - 7:00 pm10:00 am - 6:00 pm10:00 am - 6:00 pm10:00 am - 5:00 pm10:00 am - 5:00 pmClosedClosedService \n",
      "Animals \n",
      "Only\n",
      "Bonita-Sunnyside Branch4375 Bonita Rd.Bonita91902(619) 475-464210:00 am - 6:00 pm12:00 pm - 7:00 pm10:00 am - 6:00 pm10:00 am - 6:00 pm10:00 am - 5:00 pm10:00 am - 5:00 pmClosedClosedService \n",
      "Animals \n",
      "Only\n",
      "Borrego Springs Branch 2580 Country Club Rd.Borrego Springs92004(760) 767-5761Closed12:00 pm - 7:00 pm10:00 am - 6:00 pm10:00 am - 6:00 pm10:00 am - 5:00 pm10:00 am - 5:00 pmClosedClosedService \n",
      "Animals \n",
      "Only\n",
      "Campo-Morena Village Branch31356 Highway 94Campo91906(619) 478-5945Closed12:00 pm - 7:00 pm10:00 am - 6:00 pm10:00 am - 6:00 pm10:00 am - 5:00 pm10:00 am-5:00 pmClosedClosedService \n",
      "Animals \n",
      "Only\n",
      "Canyonside Recreation Center12350 Black Mountain Rd.San Diego92129(858) 538-81319:00 am - 8:00 pm9:00 am - 8:00 pm9:00 am - 8:00 pm9:00 am - 8:00 pm10:00 am - 8:00 pm9:00 am - 3:00 pmClosedClosedService \n",
      "Animals \n",
      "Only\n",
      "Cardiff-by-the-Sea Branch2081 Newcastle Ave.Cardiff-by-the-Sea92007(760) 753-4027Closed12:00 pm - 7:00 pm10:00 am - 6:00 pm10:00 am - 6:00 pm10:00 am - 5:00 pm10:00 am - 5:00 pmClosedClosedService \n",
      "Animals \n",
      "Only\n",
      "Carlsbad City Library1775 Dove Ln.Carlsbad92011(442) 339-204910:00 am - 7:00 pm10:00 am - 7:00 pm10:00 am - 7:00 pm10:00 am - 7:00 pm10:00 am - 5:00 pm10:00 am - 5:00 pmClosedClosedService \n",
      "Animals \n",
      "Only\n",
      "Carmel Mountain Ranch Library12095 World Trade Dr.San Diego92128(858) 538-818111:30 am - 8:00 pm11:30 am - 8:00 pm9:30 am - 6:00 pm9:30 am - 6:00 pm9:30 am - 6:00 pm9:30 am - 6:00 pmClosed5/30, 7/4, \n",
      "9/5, \n",
      "11/11/22Service \n",
      "Animals \n",
      "Only\n",
      "Carmel Valley Library3919 Townsgate Dr.San Diego92130(858) 552-166811:30 am - 8:00 pm11:30 am - 8:00 pm9:30 am - 6:00 pm9:30 am - 6:00 pm9:30 am - 6:00 pm9:30 am - 6:00 pmClosedClosedService \n",
      "Animals \n",
      "Only\n",
      "Casa De Oro Branch9805 Campo Rd. #180 Spring Valley91977(619) 463-323610:00 am - 6:00 pm12:00 pm - 7:00 pm10:00 am - 6:00 pm10:00 am - 6:00 pm10:00 am - 5:00 pmClosedClosedClosedService \n",
      "Animals \n",
      "Only\n",
      "Central Branch Library330 Park Blvd.San Diego92101(619) 236-580011:30 am - 8:00 pm11:30 am - 8:00 pm9:30 am - 6:00 pm9:30 am - 6:00 pm9:30 am - 6:00 pm9:30 am - 6:00 pmClosedClosedService \n",
      "Animals \n",
      "Only\n",
      "For more information: www.coolzones.org or call 2-1-1Brought to you by the County of San Diego Health and Human Services Agency, Aging & Independence Services\n",
      "\n"
     ]
    }
   ],
   "source": [
    "print(pageObj.extractText())"
   ]
  },
  {
   "cell_type": "code",
   "execution_count": null,
   "id": "c0784385-5970-4a3b-bd5a-a473e6faae10",
   "metadata": {},
   "outputs": [],
   "source": []
  }
 ],
 "metadata": {
  "kernelspec": {
   "display_name": "Python 3 (ipykernel)",
   "language": "python",
   "name": "python3"
  },
  "language_info": {
   "codemirror_mode": {
    "name": "ipython",
    "version": 3
   },
   "file_extension": ".py",
   "mimetype": "text/x-python",
   "name": "python",
   "nbconvert_exporter": "python",
   "pygments_lexer": "ipython3",
   "version": "3.10.6"
  }
 },
 "nbformat": 4,
 "nbformat_minor": 5
}
